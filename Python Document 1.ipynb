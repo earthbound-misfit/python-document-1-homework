{
 "cells": [
  {
   "cell_type": "markdown",
   "metadata": {},
   "source": [
    "# Week 2 - Monday Lesson (variable assignment, loops, lists)"
   ]
  },
  {
   "cell_type": "markdown",
   "metadata": {},
   "source": [
    "## Tasks Today:\n",
    "\n",
    "1) Int & Float assignments <br>\n",
    " &nbsp;&nbsp;&nbsp;&nbsp; a) Assigning int <br>\n",
    " &nbsp;&nbsp;&nbsp;&nbsp; b) Assigning float <br>\n",
    " &nbsp;&nbsp;&nbsp;&nbsp; c) Performing Calculations on ints and floats <br>\n",
    " &nbsp;&nbsp;&nbsp;&nbsp;&nbsp;&nbsp;&nbsp;&nbsp; - Addition <br>\n",
    " &nbsp;&nbsp;&nbsp;&nbsp;&nbsp;&nbsp;&nbsp;&nbsp; - Subtraction <br>\n",
    " &nbsp;&nbsp;&nbsp;&nbsp;&nbsp;&nbsp;&nbsp;&nbsp; - Multiplication <br>\n",
    " &nbsp;&nbsp;&nbsp;&nbsp;&nbsp;&nbsp;&nbsp;&nbsp; - Division <br>\n",
    " &nbsp;&nbsp;&nbsp;&nbsp;&nbsp;&nbsp;&nbsp;&nbsp; - Floor Division <br>\n",
    " &nbsp;&nbsp;&nbsp;&nbsp;&nbsp;&nbsp;&nbsp;&nbsp; - Modulo <br>\n",
    " &nbsp;&nbsp;&nbsp;&nbsp;&nbsp;&nbsp;&nbsp;&nbsp; - Exponential <br>\n",
    "2) String Input-Output <br>\n",
    " &nbsp;&nbsp;&nbsp;&nbsp; a) String Assignment <br>\n",
    " &nbsp;&nbsp;&nbsp;&nbsp; b) print() <br>\n",
    " &nbsp;&nbsp;&nbsp;&nbsp; c) String Concatenation <br>\n",
    " &nbsp;&nbsp;&nbsp;&nbsp; d) Type Conversion <br>\n",
    " &nbsp;&nbsp;&nbsp;&nbsp; e) input() <br>\n",
    " &nbsp;&nbsp;&nbsp;&nbsp; f) format() <br>\n",
    " &nbsp;&nbsp;&nbsp;&nbsp; g) Old Way (python 2) <br>\n",
    "3) <b>In-Class Exercise #1</b> <br>\n",
    "4) If Statements <br>\n",
    " &nbsp;&nbsp;&nbsp;&nbsp; a) 'is' keyword <br>\n",
    " &nbsp;&nbsp;&nbsp;&nbsp; b) 'in' keyword <br>\n",
    " &nbsp;&nbsp;&nbsp;&nbsp; c) 'not in' keyword <br>\n",
    "5) <b>In-Class Exercise #2</b> <br>\n",
    "6) Elif Statements <br>\n",
    "7) Else Statements <br>\n",
    "8) <b>In-Class Exercise #3</b> <br>\n",
    "9) For Loops <br>\n",
    " &nbsp;&nbsp;&nbsp;&nbsp; a) Using 'in' keyword <br>\n",
    " &nbsp;&nbsp;&nbsp;&nbsp; b) Continue Statement <br>\n",
    " &nbsp;&nbsp;&nbsp;&nbsp; c) Break Statement <br>\n",
    " &nbsp;&nbsp;&nbsp;&nbsp; d) Pass Statement <br>\n",
    " &nbsp;&nbsp;&nbsp;&nbsp; e) Double For Loops <br>\n",
    "10) While Loops <br>\n",
    " &nbsp;&nbsp;&nbsp;&nbsp; a) Looping 'While True' <br>\n",
    " &nbsp;&nbsp;&nbsp;&nbsp; b) While and For Loops Used Together <br>\n",
    "11) Built-In Functions <br>\n",
    " &nbsp;&nbsp;&nbsp;&nbsp; a) range() <br>\n",
    " &nbsp;&nbsp;&nbsp;&nbsp; b) len() <br>\n",
    " &nbsp;&nbsp;&nbsp;&nbsp; c) help() <br>\n",
    " &nbsp;&nbsp;&nbsp;&nbsp; d) isinstance() <br>\n",
    " &nbsp;&nbsp;&nbsp;&nbsp; e) abs() <br>\n",
    "12) Try and Except <br>\n",
    "13) Lists <br>\n",
    " &nbsp;&nbsp;&nbsp;&nbsp; a) Declaring Lists <br>\n",
    " &nbsp;&nbsp;&nbsp;&nbsp; b) Indexing a List <br>\n",
    " &nbsp;&nbsp;&nbsp;&nbsp; c) .append() <br>\n",
    " &nbsp;&nbsp;&nbsp;&nbsp; d) .insert() <br>\n",
    " &nbsp;&nbsp;&nbsp;&nbsp; e) .pop() <br>\n",
    " &nbsp;&nbsp;&nbsp;&nbsp; f) .remove() <br>\n",
    " &nbsp;&nbsp;&nbsp;&nbsp; g) del() <br>\n",
    " &nbsp;&nbsp;&nbsp;&nbsp; h) Concatenating Two Lists <br>\n",
    " &nbsp;&nbsp;&nbsp;&nbsp; i) Lists Within Lists <br>\n",
    " &nbsp;&nbsp;&nbsp;&nbsp; j) Looping Through Lists <br>"
   ]
  },
  {
   "cell_type": "markdown",
   "metadata": {},
   "source": [
    "### Int & Float Assignments"
   ]
  },
  {
   "cell_type": "markdown",
   "metadata": {},
   "source": [
    "##### Assigning int"
   ]
  },
  {
   "cell_type": "code",
   "execution_count": 1,
   "metadata": {},
   "outputs": [
    {
     "name": "stdout",
     "output_type": "stream",
     "text": [
      "6\n"
     ]
    }
   ],
   "source": [
    "number = 6\n",
    "\n",
    "print(number)"
   ]
  },
  {
   "cell_type": "markdown",
   "metadata": {},
   "source": [
    "##### Assinging float"
   ]
  },
  {
   "cell_type": "code",
   "execution_count": 8,
   "metadata": {},
   "outputs": [
    {
     "name": "stdout",
     "output_type": "stream",
     "text": [
      "2.3\n",
      "7.2\n"
     ]
    }
   ],
   "source": [
    "numberFloat = 2.3\n",
    "print(numberFloat)\n",
    "numberFloat = 7.2\n",
    "print(numberFloat)"
   ]
  },
  {
   "cell_type": "markdown",
   "metadata": {},
   "source": [
    "#### Performing Calculations on ints and floats"
   ]
  },
  {
   "cell_type": "markdown",
   "metadata": {},
   "source": [
    "##### Addition"
   ]
  },
  {
   "cell_type": "code",
   "execution_count": 13,
   "metadata": {},
   "outputs": [
    {
     "name": "stdout",
     "output_type": "stream",
     "text": [
      "7.4\n",
      "9.4\n"
     ]
    }
   ],
   "source": [
    "num1 = 2\n",
    "num2 = 5.4\n",
    "\n",
    "result = num1 + num2\n",
    "print(result)\n",
    "\n",
    "#result += 2\n",
    "print(result + 2)"
   ]
  },
  {
   "cell_type": "markdown",
   "metadata": {},
   "source": [
    "##### Subtraction"
   ]
  },
  {
   "cell_type": "code",
   "execution_count": 14,
   "metadata": {},
   "outputs": [
    {
     "name": "stdout",
     "output_type": "stream",
     "text": [
      "3.4000000000000004\n"
     ]
    }
   ],
   "source": [
    "result_diff = num2 - num1\n",
    "print(result_diff)"
   ]
  },
  {
   "cell_type": "markdown",
   "metadata": {},
   "source": [
    "##### Multiplication"
   ]
  },
  {
   "cell_type": "code",
   "execution_count": 16,
   "metadata": {},
   "outputs": [
    {
     "name": "stdout",
     "output_type": "stream",
     "text": [
      "10.8\n",
      "21.6\n"
     ]
    }
   ],
   "source": [
    "result_mul = num1 * num2\n",
    "print(result_mul)\n",
    "\n",
    "result_mul *= 2\n",
    "print(result_mul)"
   ]
  },
  {
   "cell_type": "markdown",
   "metadata": {},
   "source": [
    "##### Division"
   ]
  },
  {
   "cell_type": "code",
   "execution_count": 18,
   "metadata": {},
   "outputs": [
    {
     "name": "stdout",
     "output_type": "stream",
     "text": [
      "2.7\n",
      "0.9\n"
     ]
    }
   ],
   "source": [
    "result_div = num2 / num1\n",
    "print(result_div)\n",
    "\n",
    "result_div /= 3\n",
    "print(result_div)"
   ]
  },
  {
   "cell_type": "markdown",
   "metadata": {},
   "source": [
    "##### Floor Division"
   ]
  },
  {
   "cell_type": "code",
   "execution_count": 20,
   "metadata": {},
   "outputs": [
    {
     "name": "stdout",
     "output_type": "stream",
     "text": [
      "2.0\n"
     ]
    }
   ],
   "source": [
    "result_floor = num2 // num1\n",
    "print(result_floor)"
   ]
  },
  {
   "cell_type": "markdown",
   "metadata": {},
   "source": [
    "##### Modulo"
   ]
  },
  {
   "cell_type": "code",
   "execution_count": 23,
   "metadata": {},
   "outputs": [
    {
     "name": "stdout",
     "output_type": "stream",
     "text": [
      "1\n",
      "1\n"
     ]
    }
   ],
   "source": [
    "result_mod = 13 % 2\n",
    "print(result_mod)\n",
    "\n",
    "result_mod %= 2\n",
    "print(result_mod)"
   ]
  },
  {
   "cell_type": "markdown",
   "metadata": {},
   "source": [
    "##### Exponential"
   ]
  },
  {
   "cell_type": "code",
   "execution_count": 25,
   "metadata": {},
   "outputs": [
    {
     "name": "stdout",
     "output_type": "stream",
     "text": [
      "25\n",
      "625\n"
     ]
    }
   ],
   "source": [
    "square = 5 ** 2\n",
    "print(square)\n",
    "\n",
    "square **=2\n",
    "print(square)"
   ]
  },
  {
   "cell_type": "markdown",
   "metadata": {},
   "source": [
    "### String Input-Output"
   ]
  },
  {
   "cell_type": "markdown",
   "metadata": {},
   "source": [
    "##### String Assignment"
   ]
  },
  {
   "cell_type": "code",
   "execution_count": 27,
   "metadata": {},
   "outputs": [
    {
     "name": "stdout",
     "output_type": "stream",
     "text": [
      "Kelly\n"
     ]
    }
   ],
   "source": [
    "name = \"Kelly\"\n",
    "print(name)"
   ]
  },
  {
   "cell_type": "markdown",
   "metadata": {},
   "source": [
    "##### print() <br>\n",
    "<p>Don't forget about end=' '</p>"
   ]
  },
  {
   "cell_type": "code",
   "execution_count": 32,
   "metadata": {},
   "outputs": [
    {
     "name": "stdout",
     "output_type": "stream",
     "text": [
      "This is my first name: Kelly\n",
      "Full Name: Kelly Karner"
     ]
    }
   ],
   "source": [
    "print(\"This is my first name:\", name)\n",
    "\n",
    "print(\"Full Name:\", name, end=\" Karner\")"
   ]
  },
  {
   "cell_type": "markdown",
   "metadata": {},
   "source": [
    "##### String Concatenation"
   ]
  },
  {
   "cell_type": "code",
   "execution_count": 36,
   "metadata": {},
   "outputs": [
    {
     "name": "stdout",
     "output_type": "stream",
     "text": [
      "Kelly Karner\n",
      "Kelly Karner, Jr\n"
     ]
    }
   ],
   "source": [
    "first_name = \"Kelly\"\n",
    "last_name = \"Karner\"\n",
    "full_name = first_name + \" \" + last_name\n",
    "print(full_name)\n",
    "\n",
    "full_name += \", Jr\"\n",
    "print(full_name)"
   ]
  },
  {
   "cell_type": "markdown",
   "metadata": {},
   "source": [
    "##### Type Conversion"
   ]
  },
  {
   "cell_type": "code",
   "execution_count": 38,
   "metadata": {},
   "outputs": [
    {
     "name": "stdout",
     "output_type": "stream",
     "text": [
      "32\n",
      "33\n"
     ]
    }
   ],
   "source": [
    "number = \"32\"\n",
    "change_type_num = int(number)\n",
    "print(number)\n",
    "print(change_type_num + 1)"
   ]
  },
  {
   "cell_type": "markdown",
   "metadata": {},
   "source": [
    "##### input()"
   ]
  },
  {
   "cell_type": "code",
   "execution_count": 46,
   "metadata": {},
   "outputs": [
    {
     "name": "stdout",
     "output_type": "stream",
     "text": [
      "What is your name?Kelly\n",
      "Nice to meet you, Kelly\n",
      "What is your age?39\n",
      "44\n"
     ]
    }
   ],
   "source": [
    "name = input(\"What is your name?\")\n",
    "print(\"Nice to meet you, \" + name)\n",
    "\n",
    "age = int(input(\"What is your age?\"))\n",
    "add_age = age + 5\n",
    "print(add_age)"
   ]
  },
  {
   "cell_type": "markdown",
   "metadata": {},
   "source": [
    "##### format()"
   ]
  },
  {
   "cell_type": "code",
   "execution_count": 49,
   "metadata": {},
   "outputs": [
    {
     "name": "stdout",
     "output_type": "stream",
     "text": [
      "What is your age? 39\n",
      "You are 39 Kelly and you are getting wiser!\n",
      "39 is a great time in life!\n"
     ]
    }
   ],
   "source": [
    "age = input(\"What is your age? \")\n",
    "\n",
    "result_string = \"You are {} {} and you are getting wiser!\".format(age,name)\n",
    "print(result_string)\n",
    "\n",
    "result_again = f\"{age} is a great time in life!\"\n",
    "print(result_again)"
   ]
  },
  {
   "cell_type": "markdown",
   "metadata": {},
   "source": [
    "##### Old Way (python 2)"
   ]
  },
  {
   "cell_type": "code",
   "execution_count": 50,
   "metadata": {},
   "outputs": [
    {
     "name": "stdout",
     "output_type": "stream",
     "text": [
      "You are 39 and you look great for your age!\n"
     ]
    }
   ],
   "source": [
    "result_string2 = \"You are %s and you look great for your age!\" %age\n",
    "print(result_string2)"
   ]
  },
  {
   "cell_type": "markdown",
   "metadata": {},
   "source": [
    "# In-Class Exercise 1 <br>\n",
    "<p>Create a format statement that asks for color, year, make, model and prints out the results</p>"
   ]
  },
  {
   "cell_type": "code",
   "execution_count": 51,
   "metadata": {},
   "outputs": [
    {
     "name": "stdout",
     "output_type": "stream",
     "text": [
      "What is the color of your car? black\n",
      "What is the year of your car? 2011\n",
      "What is the make of your car? Subaru\n",
      "What is the model of your car? Forester\n",
      "You have a 2011 black Subaru Forester.\n"
     ]
    }
   ],
   "source": [
    "color = input(\"What is the color of your car? \")\n",
    "year = input(\"What is the year of your car? \")\n",
    "make = input(\"What is the make of your car? \")\n",
    "model = input(\"What is the model of your car? \")\n",
    "print(f\"You have a {year} {color} {make} {model}.\")"
   ]
  },
  {
   "cell_type": "markdown",
   "metadata": {},
   "source": [
    "### If Statements"
   ]
  },
  {
   "cell_type": "code",
   "execution_count": 66,
   "metadata": {},
   "outputs": [
    {
     "name": "stdout",
     "output_type": "stream",
     "text": [
      "Num2 is greater\n"
     ]
    }
   ],
   "source": [
    "# Available operators: Greater(>), Less(<),Equal(==)\n",
    "# Greater or Equal(>=), Less or Equal (<=)\n",
    "\n",
    "# Truth Tree:\n",
    "# T && F = F\n",
    "# T && T = T\n",
    "# T || F = T\n",
    "# F || T = T\n",
    "# F || F = F\n",
    "\n",
    "num1 = 5\n",
    "num2 = 10\n",
    "num3 = 0\n",
    "\n",
    "#if num1 == num2:\n",
    "#    print(\"Equal Values\")\n",
    "#else:\n",
    "#    print(\"Not equal\")\n",
    "    \n",
    "if num2 > num1 or num3 > 0:\n",
    "    print(\"Num2 is greater\")\n",
    "elif num1 > num2:\n",
    "    print(\"Num1 is greater\")\n",
    "else:\n",
    "    print(\"Equal Values\")"
   ]
  },
  {
   "cell_type": "markdown",
   "metadata": {},
   "source": [
    "##### 'is' keyword"
   ]
  },
  {
   "cell_type": "code",
   "execution_count": 68,
   "metadata": {
    "scrolled": true
   },
   "outputs": [
    {
     "name": "stdout",
     "output_type": "stream",
     "text": [
      "This is the exact number/object\n"
     ]
    }
   ],
   "source": [
    "# 'is' keyword is for checking for the same object, but not the same value\n",
    "\n",
    "num3 = 55\n",
    "if num3 == 55:\n",
    "    print(\"This is the exact number/object\")"
   ]
  },
  {
   "cell_type": "markdown",
   "metadata": {},
   "source": [
    "##### 'in' keyword"
   ]
  },
  {
   "cell_type": "code",
   "execution_count": 73,
   "metadata": {},
   "outputs": [
    {
     "name": "stdout",
     "output_type": "stream",
     "text": [
      "The ring bearer\n"
     ]
    }
   ],
   "source": [
    "# checks if a character is in a string\n",
    "\n",
    "char_name = \"Frodo Baggins\"\n",
    "if \"Frodo\" in char_name:\n",
    "    print(\"The ring bearer\")"
   ]
  },
  {
   "cell_type": "markdown",
   "metadata": {},
   "source": [
    "##### 'not in' keyword'"
   ]
  },
  {
   "cell_type": "code",
   "execution_count": 74,
   "metadata": {},
   "outputs": [
    {
     "name": "stdout",
     "output_type": "stream",
     "text": [
      "a is NOT here\n"
     ]
    }
   ],
   "source": [
    "sega_char = \"Sonic\"\n",
    "if 'a' not in sega_char:\n",
    "    print('a is NOT here')\n",
    "    "
   ]
  },
  {
   "cell_type": "markdown",
   "metadata": {},
   "source": [
    "# In-Class Exercise 2 <br>\n",
    "<p>Ask user for input, check to see if the letter 'p' is in the input</p>"
   ]
  },
  {
   "cell_type": "code",
   "execution_count": 81,
   "metadata": {},
   "outputs": [
    {
     "name": "stdout",
     "output_type": "stream",
     "text": [
      "Who picked pickled peppers?Kelly Karner\n",
      "There is NOT a p\n"
     ]
    }
   ],
   "source": [
    "answer = input(\"Who picked pickled peppers?\")\n",
    "if 'p' in answer.lower():\n",
    "    print(\"There is a p\")\n",
    "else: \n",
    "    print(\"There is NOT a p\")"
   ]
  },
  {
   "cell_type": "markdown",
   "metadata": {},
   "source": [
    "## Using 'and'/'or' with If Statements"
   ]
  },
  {
   "cell_type": "code",
   "execution_count": 82,
   "metadata": {},
   "outputs": [
    {
     "name": "stdout",
     "output_type": "stream",
     "text": [
      "True and True\n",
      "True and False\n"
     ]
    }
   ],
   "source": [
    "num_11 = 15\n",
    "num_12 = 3\n",
    "num_13 = 10\n",
    "num_14 = 3\n",
    "\n",
    "if num_11 / 5 == num_12 and num_13 - 7 == num_14:\n",
    "    print(\"True and True\")\n",
    "    \n",
    "if num_11 > num_12 or num_13 == num_14:\n",
    "    print(\"True and False\")\n"
   ]
  },
  {
   "cell_type": "markdown",
   "metadata": {},
   "source": [
    "### Elif Statements"
   ]
  },
  {
   "cell_type": "code",
   "execution_count": 88,
   "metadata": {},
   "outputs": [
    {
     "name": "stdout",
     "output_type": "stream",
     "text": [
      "What is your name? Kelly\n",
      "The name is not Max\n"
     ]
    }
   ],
   "source": [
    "first_name = input(\"What is your name? \")\n",
    "\n",
    "if first_name == \"Smith\":\n",
    "    print(\"The name is Smith\")\n",
    "elif first_name == \"Brandon\":\n",
    "    print(\"The name is Brandon\")\n",
    "elif first_name != \"Max\":\n",
    "    print(\"The name is not Max\")\n",
    "else:\n",
    "    print(\"The name is Max\")"
   ]
  },
  {
   "cell_type": "markdown",
   "metadata": {},
   "source": [
    "### Else Statements"
   ]
  },
  {
   "cell_type": "code",
   "execution_count": null,
   "metadata": {},
   "outputs": [],
   "source": [
    "# see above"
   ]
  },
  {
   "cell_type": "markdown",
   "metadata": {},
   "source": [
    "### For Loops"
   ]
  },
  {
   "cell_type": "code",
   "execution_count": 90,
   "metadata": {},
   "outputs": [
    {
     "name": "stdout",
     "output_type": "stream",
     "text": [
      "K\n",
      "e\n",
      "l\n",
      "l\n",
      "y\n",
      " \n",
      "K\n",
      "a\n",
      "r\n",
      "n\n",
      "e\n",
      "r\n",
      "1\n",
      "2\n",
      "3\n",
      "4\n"
     ]
    }
   ],
   "source": [
    "# Syntax:\n",
    "# for counter in condition\n",
    "\n",
    "name = \"Kelly Karner\"\n",
    "a_list = [1, 2, 3, 4]\n",
    "\n",
    "for letter in name:\n",
    "    print(letter)\n",
    "    \n",
    "for i in a_list:\n",
    "    print(i)"
   ]
  },
  {
   "cell_type": "markdown",
   "metadata": {},
   "source": [
    "##### Using 'in' keyword"
   ]
  },
  {
   "cell_type": "code",
   "execution_count": null,
   "metadata": {},
   "outputs": [],
   "source": [
    "# see above"
   ]
  },
  {
   "cell_type": "markdown",
   "metadata": {},
   "source": [
    "##### Continue Statement"
   ]
  },
  {
   "cell_type": "code",
   "execution_count": null,
   "metadata": {},
   "outputs": [],
   "source": [
    "# will continue to next iteration"
   ]
  },
  {
   "cell_type": "code",
   "execution_count": 92,
   "metadata": {},
   "outputs": [
    {
     "name": "stdout",
     "output_type": "stream",
     "text": [
      "0\n",
      "1\n",
      "2\n",
      "3\n",
      "4\n",
      "6\n",
      "7\n",
      "8\n",
      "9\n",
      "10\n",
      "11\n",
      "12\n",
      "13\n",
      "14\n",
      "15\n",
      "16\n",
      "17\n",
      "18\n",
      "19\n"
     ]
    }
   ],
   "source": [
    "# 'continue' doesn't stop the for loop, it just skips to the next \n",
    "\n",
    "for i in range(20):\n",
    "    if i == 5:\n",
    "        continue\n",
    "    print(i)"
   ]
  },
  {
   "cell_type": "markdown",
   "metadata": {},
   "source": [
    "##### Break Statement"
   ]
  },
  {
   "cell_type": "code",
   "execution_count": null,
   "metadata": {},
   "outputs": [],
   "source": [
    "# will break out of current loop"
   ]
  },
  {
   "cell_type": "code",
   "execution_count": 93,
   "metadata": {},
   "outputs": [
    {
     "name": "stdout",
     "output_type": "stream",
     "text": [
      "0\n",
      "1\n",
      "2\n",
      "3\n",
      "4\n"
     ]
    }
   ],
   "source": [
    "for i in range(20):\n",
    "    if i == 5:\n",
    "        break\n",
    "    print(i)"
   ]
  },
  {
   "cell_type": "markdown",
   "metadata": {},
   "source": [
    "##### Pass Statement"
   ]
  },
  {
   "cell_type": "code",
   "execution_count": null,
   "metadata": {},
   "outputs": [],
   "source": [
    "# mostly used as a placeholder, and will continue on same iteration"
   ]
  },
  {
   "cell_type": "code",
   "execution_count": null,
   "metadata": {},
   "outputs": [],
   "source": [
    "for i in name:\n",
    "    pass\n"
   ]
  },
  {
   "cell_type": "markdown",
   "metadata": {},
   "source": [
    "##### Double For Loops"
   ]
  },
  {
   "cell_type": "code",
   "execution_count": 94,
   "metadata": {},
   "outputs": [
    {
     "name": "stdout",
     "output_type": "stream",
     "text": [
      "i =  0 j=  0\n",
      "i =  0 j=  1\n",
      "i =  0 j=  2\n",
      "i =  0 j=  3\n",
      "i =  0 j=  4\n",
      "i =  1 j=  0\n",
      "i =  1 j=  1\n",
      "i =  1 j=  2\n",
      "i =  1 j=  3\n",
      "i =  1 j=  4\n",
      "i =  2 j=  0\n",
      "i =  2 j=  1\n",
      "i =  2 j=  2\n",
      "i =  2 j=  3\n",
      "i =  2 j=  4\n",
      "i =  3 j=  0\n",
      "i =  3 j=  1\n",
      "i =  3 j=  2\n",
      "i =  3 j=  3\n",
      "i =  3 j=  4\n",
      "i =  4 j=  0\n",
      "i =  4 j=  1\n",
      "i =  4 j=  2\n",
      "i =  4 j=  3\n",
      "i =  4 j=  4\n"
     ]
    }
   ],
   "source": [
    "for i in range(5):\n",
    "    for j in range(5):\n",
    "        print(\"i = \", i, \"j= \", j)"
   ]
  },
  {
   "cell_type": "markdown",
   "metadata": {},
   "source": [
    "### While Loops"
   ]
  },
  {
   "cell_type": "code",
   "execution_count": 95,
   "metadata": {},
   "outputs": [
    {
     "name": "stdout",
     "output_type": "stream",
     "text": [
      "0\n",
      "1\n",
      "2\n",
      "3\n",
      "4\n",
      "5\n",
      "6\n",
      "7\n",
      "8\n",
      "9\n"
     ]
    }
   ],
   "source": [
    "# Syntax:\n",
    "# while keyword, condition statement\n",
    "\n",
    "num = 0\n",
    "while num < 10:\n",
    "    print(num)\n",
    "    num += 1"
   ]
  },
  {
   "cell_type": "markdown",
   "metadata": {},
   "source": [
    "##### Looping 'While True'"
   ]
  },
  {
   "cell_type": "code",
   "execution_count": 98,
   "metadata": {},
   "outputs": [
    {
     "name": "stdout",
     "output_type": "stream",
     "text": [
      "Infinite Loop\n",
      "Would you like to stop? no\n",
      "Infinite Loop\n",
      "Would you like to stop? no\n",
      "Infinite Loop\n",
      "Would you like to stop? no\n",
      "Infinite Loop\n",
      "Would you like to stop? Yes\n"
     ]
    }
   ],
   "source": [
    "# don't do\n",
    "\n",
    "game_over = True\n",
    "\n",
    "while game_over:\n",
    "    print(\"Infinite Loop\")\n",
    "    user_input = input(\"Would you like to stop? \")\n",
    "    if user_input == \"Yes\":\n",
    "        game_over = False\n",
    "        "
   ]
  },
  {
   "cell_type": "markdown",
   "metadata": {},
   "source": [
    "##### While & For Loops Used Together"
   ]
  },
  {
   "cell_type": "code",
   "execution_count": 103,
   "metadata": {},
   "outputs": [
    {
     "name": "stdout",
     "output_type": "stream",
     "text": [
      "\n",
      "While loop iteration: 0\n",
      "For loop iteration: 0\n",
      "For loop iteration: 1\n",
      "\n",
      "While loop iteration: 1\n",
      "For loop iteration: 0\n",
      "For loop iteration: 1\n",
      "\n",
      "While loop iteration: 2\n",
      "For loop iteration: 0\n",
      "For loop iteration: 1\n",
      "\n",
      "While loop iteration: 3\n",
      "For loop iteration: 0\n",
      "For loop iteration: 1\n",
      "\n",
      "While loop iteration: 4\n",
      "For loop iteration: 0\n",
      "For loop iteration: 1\n"
     ]
    }
   ],
   "source": [
    "num = 0\n",
    "\n",
    "while num < 5:\n",
    "    print(\"\\nWhile loop iteration: \" + str(num))\n",
    "    \n",
    "    for i in range(2):\n",
    "        print(\"For loop iteration: \" + str(i))\n",
    "    \n",
    "    num += 1\n",
    "    \n"
   ]
  },
  {
   "cell_type": "markdown",
   "metadata": {},
   "source": [
    "### Built-In Functions"
   ]
  },
  {
   "cell_type": "markdown",
   "metadata": {},
   "source": [
    "##### range()"
   ]
  },
  {
   "cell_type": "code",
   "execution_count": 108,
   "metadata": {},
   "outputs": [
    {
     "name": "stdout",
     "output_type": "stream",
     "text": [
      "You have 1 dollars.\n",
      "You have 2 dollars.\n",
      "You have 3 dollars.\n",
      "You have 4 dollars.\n",
      "You have 5 dollars.\n",
      "You have 6 dollars.\n",
      "You have 7 dollars.\n",
      "You have 8 dollars.\n",
      "You have 9 dollars.\n",
      "You have 10 dollars.\n"
     ]
    }
   ],
   "source": [
    "# range(Start, Stop, Step)\n",
    "\n",
    "for i in range(1,11):\n",
    "    print(f\"You have {i} dollars.\")"
   ]
  },
  {
   "cell_type": "markdown",
   "metadata": {},
   "source": [
    "##### len()"
   ]
  },
  {
   "cell_type": "code",
   "execution_count": 114,
   "metadata": {},
   "outputs": [
    {
     "name": "stdout",
     "output_type": "stream",
     "text": [
      "Give me your favorite book name: Still Life With Woodpecker\n",
      "26\n"
     ]
    }
   ],
   "source": [
    "name = input(\"Give me your favorite book name: \")\n",
    "length = len(name)\n",
    "print(length)"
   ]
  },
  {
   "cell_type": "markdown",
   "metadata": {},
   "source": [
    "##### help()"
   ]
  },
  {
   "cell_type": "code",
   "execution_count": 121,
   "metadata": {},
   "outputs": [
    {
     "name": "stdout",
     "output_type": "stream",
     "text": [
      "Help on built-in function abs in module builtins:\n",
      "\n",
      "abs(x, /)\n",
      "    Return the absolute value of the argument.\n",
      "\n"
     ]
    }
   ],
   "source": [
    "# use to view more info about a python function\n",
    "\n",
    "help(abs)"
   ]
  },
  {
   "cell_type": "markdown",
   "metadata": {},
   "source": [
    "##### isinstance()"
   ]
  },
  {
   "cell_type": "code",
   "execution_count": 125,
   "metadata": {},
   "outputs": [
    {
     "name": "stdout",
     "output_type": "stream",
     "text": [
      "False\n",
      "This number is a float type.\n"
     ]
    }
   ],
   "source": [
    "# check a variable to find out what object family or data type it belongs to\n",
    "# isinstance(var, type)\n",
    "\n",
    "print(isinstance(4.5, int))\n",
    "if isinstance(4.5, float):\n",
    "    print(\"This number is a float type.\")"
   ]
  },
  {
   "cell_type": "markdown",
   "metadata": {},
   "source": [
    "##### abs()"
   ]
  },
  {
   "cell_type": "code",
   "execution_count": 126,
   "metadata": {},
   "outputs": [
    {
     "name": "stdout",
     "output_type": "stream",
     "text": [
      "5\n"
     ]
    }
   ],
   "source": [
    "print(abs(-5))"
   ]
  },
  {
   "cell_type": "markdown",
   "metadata": {},
   "source": [
    "### Try and Except"
   ]
  },
  {
   "cell_type": "code",
   "execution_count": 136,
   "metadata": {},
   "outputs": [
    {
     "name": "stdout",
     "output_type": "stream",
     "text": [
      "Guess a number 234\n",
      "Your number is: 234\n"
     ]
    }
   ],
   "source": [
    "# use this to log out useful error messages\n",
    "# doesn't stop the program\n",
    "\n",
    "try:\n",
    "    number_test = 0\n",
    "    input_num = int(input(\"Guess a number \"))\n",
    "    if input_num == input_num + number_test:\n",
    "        input_num = input_num + number_test\n",
    "        print(\"Your number is: \" + str(input_num))\n",
    "except:\n",
    "    print(\"That didn't work! Change your input to a number!\")"
   ]
  },
  {
   "cell_type": "markdown",
   "metadata": {},
   "source": [
    "### Lists"
   ]
  },
  {
   "cell_type": "markdown",
   "metadata": {},
   "source": [
    "##### Declaring Lists"
   ]
  },
  {
   "cell_type": "code",
   "execution_count": 142,
   "metadata": {},
   "outputs": [
    {
     "name": "stdout",
     "output_type": "stream",
     "text": [
      "['Max', 'Cindy', 'Kathy', 'bob', 'Nate']\n"
     ]
    }
   ],
   "source": [
    "list_1 = []\n",
    "names = [\"Max\", \"Cindy\", \"Kathy\", \"bob\", \"Nate\"]\n",
    "print(names)"
   ]
  },
  {
   "cell_type": "markdown",
   "metadata": {},
   "source": [
    "##### Indexing a List"
   ]
  },
  {
   "cell_type": "code",
   "execution_count": 151,
   "metadata": {},
   "outputs": [
    {
     "name": "stdout",
     "output_type": "stream",
     "text": [
      "Cindy\n",
      "['Cindy', 'Kathy', 'bob', 'Nate']\n",
      "['Max', 'Cindy']\n",
      "['Cindy', 'bob']\n",
      "['Nate', 'bob', 'Kathy', 'Cindy', 'Max']\n"
     ]
    }
   ],
   "source": [
    "# list_name(start: stop: step)\n",
    "# Single Index\n",
    "print(names[1])\n",
    "\n",
    "# Print starting at index 1 going to the end\n",
    "print(names[1:])\n",
    "\n",
    "# Print starting at the beginning of a list up until a number\n",
    "print(names[:2])\n",
    "\n",
    "# Print starting at index 1 and going up by 2\n",
    "print(names[1::2])\n",
    "\n",
    "# Print starting at the back and display in reverse order\n",
    "print(names[::-1])"
   ]
  },
  {
   "cell_type": "markdown",
   "metadata": {},
   "source": [
    "##### .append()"
   ]
  },
  {
   "cell_type": "code",
   "execution_count": 169,
   "metadata": {},
   "outputs": [
    {
     "name": "stdout",
     "output_type": "stream",
     "text": [
      "['Max', 'Cindy', 'Kathy', 'bob', 'Nate', 'Kelly']\n"
     ]
    }
   ],
   "source": [
    "names.append(\"Kelly\")\n",
    "print(names)"
   ]
  },
  {
   "cell_type": "markdown",
   "metadata": {},
   "source": [
    "##### .insert()"
   ]
  },
  {
   "cell_type": "code",
   "execution_count": 170,
   "metadata": {},
   "outputs": [
    {
     "name": "stdout",
     "output_type": "stream",
     "text": [
      "['Max', 'Cindy', 'Woody', 'Kathy', 'bob', 'Nate', 'Kelly']\n"
     ]
    }
   ],
   "source": [
    "names.insert(2, \"Woody\")\n",
    "print(names)"
   ]
  },
  {
   "cell_type": "markdown",
   "metadata": {},
   "source": [
    "##### .pop()"
   ]
  },
  {
   "cell_type": "code",
   "execution_count": 178,
   "metadata": {},
   "outputs": [
    {
     "name": "stdout",
     "output_type": "stream",
     "text": [
      "['Max', 'Cindy', 'Kathy', 'bob', 'Nate']\n"
     ]
    }
   ],
   "source": [
    "# Defaults to last value if no value if no parameter is given\n",
    "\n",
    "names = [\"Max\", \"Cindy\", \"Kathy\", \"bob\", \"Nate\", \"Kelly\"]\n",
    "names.pop()\n",
    "print(names)\n"
   ]
  },
  {
   "cell_type": "markdown",
   "metadata": {},
   "source": [
    "\n",
    "##### .remove()"
   ]
  },
  {
   "cell_type": "code",
   "execution_count": 182,
   "metadata": {},
   "outputs": [
    {
     "name": "stdout",
     "output_type": "stream",
     "text": [
      "['Max', 'Cindy', 'Kathy', 'Nate', 'Cindy', 'Cindy', 'Cindy', 'Cindy']\n",
      "['Max', 'Kathy', 'Nate']\n"
     ]
    }
   ],
   "source": [
    "# Value to be removed rather than index\n",
    "\n",
    "#names.remove(\"bob\")\n",
    "#print(names)\n",
    "\n",
    "# remove multiple values from list\n",
    "names.append(\"Cindy\")\n",
    "names.append(\"Cindy\")\n",
    "print(names)\n",
    "\n",
    "while \"Cindy\" in names:\n",
    "    names.remove(\"Cindy\")\n",
    "print(names)"
   ]
  },
  {
   "cell_type": "markdown",
   "metadata": {},
   "source": [
    "##### del()"
   ]
  },
  {
   "cell_type": "code",
   "execution_count": 183,
   "metadata": {},
   "outputs": [
    {
     "name": "stdout",
     "output_type": "stream",
     "text": [
      "['Max', 'Nate']\n"
     ]
    }
   ],
   "source": [
    "# Goes by index, rather than value\n",
    "# Be careful, it can cause indexing errors if not used carefully\n",
    "\n",
    "del(names[1])\n",
    "print(names)"
   ]
  },
  {
   "cell_type": "markdown",
   "metadata": {},
   "source": [
    "##### Concatenating Two Lists"
   ]
  },
  {
   "cell_type": "code",
   "execution_count": 190,
   "metadata": {},
   "outputs": [
    {
     "name": "stdout",
     "output_type": "stream",
     "text": [
      "[0, 1, 2, 3, 4, 5]\n"
     ]
    }
   ],
   "source": [
    "# This will append two lists together, will NOT add the values\n",
    "\n",
    "numbers1 = [0, 1, 2]\n",
    "numbers2 = [3, 4, 5]\n",
    "all_the_numbers = numbers1 + numbers2\n",
    "print(all_the_numbers)\n",
    "\n",
    "\n",
    "\n"
   ]
  },
  {
   "cell_type": "markdown",
   "metadata": {},
   "source": [
    "##### Lists Within Lists"
   ]
  },
  {
   "cell_type": "code",
   "execution_count": null,
   "metadata": {},
   "outputs": [],
   "source": [
    "# Lists can hold any type of other element or data type, including other lists\n",
    "# They can go as deep as you want; this is called nested lists\n",
    "\n",
    "names = [\"Max\", \"Sam\", \"Josh\", [\"Sally\", \"Sue\", \"Tameka\"]]\n",
    "print(names)\n",
    "print(names[3][1])"
   ]
  },
  {
   "cell_type": "markdown",
   "metadata": {},
   "source": [
    "##### Looping Through Lists"
   ]
  },
  {
   "cell_type": "code",
   "execution_count": 192,
   "metadata": {},
   "outputs": [
    {
     "name": "stdout",
     "output_type": "stream",
     "text": [
      "Max\n",
      "Sam\n",
      "Josh\n",
      "['Sally', 'Sue', 'Tameka']\n",
      "Max\n",
      "Sam\n",
      "Josh\n",
      "['Sally', 'Sue', 'Tameka']\n"
     ]
    }
   ],
   "source": [
    "# Two ways to loop through a list\n",
    "# One is by index\n",
    "# The other is by using the 'in' keyword\n",
    "\n",
    "# By Index\n",
    "for i in range(len(names)):\n",
    "    print(names[i])\n",
    "\n",
    "# Loop with 'in'\n",
    "for i in names:\n",
    "    print(i)\n"
   ]
  },
  {
   "cell_type": "markdown",
   "metadata": {},
   "source": [
    "## Exercise #1 <br>\n",
    "<p>Cube Number Test... Print out all cubed numbers up to the total value 1000. Meaning that if the cubed number is over 1000 break the loop.</p>"
   ]
  },
  {
   "cell_type": "code",
   "execution_count": null,
   "metadata": {},
   "outputs": [],
   "source": [
    "num = 1\n",
    "\n",
    "while num ** 3 <= 1000:\n",
    "  cubed = num ** 3\n",
    "  print(cubed)\n",
    "  num += 1"
   ]
  },
  {
   "cell_type": "markdown",
   "metadata": {},
   "source": [
    "## Exercise #2 <br>\n",
    "<p>Get first prime numbers up to 100</p>"
   ]
  },
  {
   "cell_type": "code",
   "execution_count": null,
   "metadata": {},
   "outputs": [],
   "source": [
    "# HINT::\n",
    "# An else after an if runs if the if didn’t\n",
    "# An else after a for runs if the for didn’t break\n",
    "\n",
    "for num in range(1, 101):\n",
    "    if num > 1:\n",
    "      for i in range(2, num):\n",
    "        if (num % i) == 0:\n",
    "          break\n",
    "      else:\n",
    "        print(num)\n",
    "\n",
    "\n"
   ]
  },
  {
   "cell_type": "markdown",
   "metadata": {},
   "source": [
    "# Exercise 3 <br>\n",
    "<p>Take in a users input for their age, if they are younger than 18 print kids, if they're 18 to 65 print adults, else print seniors</p>"
   ]
  },
  {
   "cell_type": "code",
   "execution_count": null,
   "metadata": {},
   "outputs": [],
   "source": [
    "age = int(input(\"How old are you? \"))\n",
    "\n",
    "if age < 18:\n",
    "  print(\"kids\")\n",
    "elif age <= 65:\n",
    "  print(\"adults\")\n",
    "else:\n",
    "  print(\"seniors\")"
   ]
  }
 ],
 "metadata": {
  "kernelspec": {
   "display_name": "Python 3 (ipykernel)",
   "language": "python",
   "name": "python3"
  },
  "language_info": {
   "codemirror_mode": {
    "name": "ipython",
    "version": 3
   },
   "file_extension": ".py",
   "mimetype": "text/x-python",
   "name": "python",
   "nbconvert_exporter": "python",
   "pygments_lexer": "ipython3",
   "version": "3.9.12"
  }
 },
 "nbformat": 4,
 "nbformat_minor": 2
}
